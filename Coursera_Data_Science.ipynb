{
 "cells": [
  {
   "cell_type": "markdown",
   "metadata": {},
   "source": [
    "# Data Science Final Project and Ecosystems \n"
   ]
  },
  {
   "cell_type": "markdown",
   "metadata": {},
   "source": []
  },
  {
   "cell_type": "markdown",
   "metadata": {},
   "source": []
  },
  {
   "cell_type": "markdown",
   "metadata": {},
   "source": []
  },
  {
   "cell_type": "markdown",
   "metadata": {},
   "source": []
  },
  {
   "cell_type": "markdown",
   "metadata": {},
   "source": []
  },
  {
   "cell_type": "markdown",
   "metadata": {},
   "source": []
  },
  {
   "cell_type": "markdown",
   "metadata": {},
   "source": []
  },
  {
   "cell_type": "markdown",
   "metadata": {},
   "source": []
  },
  {
   "cell_type": "markdown",
   "metadata": {},
   "source": []
  },
  {
   "cell_type": "markdown",
   "metadata": {},
   "source": [
    "## Introduction\n",
    "In this notebook, we will explore various aspects of data science, including languages, libraries, and tools. We will also perform some arithmetic operations and conversions.\n"
   ]
  },
  {
   "cell_type": "markdown",
   "metadata": {},
   "source": [
    "## Data Science Languages\n",
    "- Python\n",
    "- R\n",
    "- SQL\n",
    "- Julia\n"
   ]
  },
  {
   "cell_type": "markdown",
   "metadata": {},
   "source": [
    "## Data Science Libraries\n",
    "- NumPy\n",
    "- Pandas\n",
    "- Matplotlib\n",
    "- Scikit-Learn\n",
    "- TensorFlow\n",
    "- Scipy \n",
    "- NLTK \n",
    "- Ploty \n",
    "- Seaborn "
   ]
  },
  {
   "cell_type": "markdown",
   "metadata": {},
   "source": [
    "## Data Science Tools\n",
    "\n",
    "| Tool             | Category              | Purpose                                        |\n",
    "|------------------|-----------------------|------------------------------------------------|\n",
    "| Jupyter Notebook | Development Environment | Interactive coding and visualization          |\n",
    "| GitHub           | Version Control        | Code versioning and collaboration              |\n",
    "| Tableau          | Visualization          | Data visualization and dashboard creation      |\n",
    "| Anaconda         | Package Management     | Python/R package management and environment setup |\n",
    "| Pandas           | Library                | Data manipulation and analysis                 |\n",
    "| NumPy            | Library                | Numerical computing and array operations       |\n",
    "| Scikit-Learn     | Library                | Machine learning and data mining               |\n",
    "| TensorFlow       | Library                | Deep learning and neural network framework     |\n",
    "| Apache Spark     | Framework              | Big data processing and analytics              |\n",
    "| SQL              | Language               | Database querying and management               |\n",
    "| Power BI         | Visualization          | Business analytics and interactive reporting   |\n",
    "| Docker           | Tool                   | Containerization and deployment                |\n",
    "| DVC              | Tool                   | Data version control                           |\n",
    "| Google Colab     | Development Environment | Cloud-based Jupyter Notebook                    |\n"
   ]
  },
  {
   "cell_type": "markdown",
   "metadata": {},
   "source": [
    "## Arithmetic Expression Examples\n",
    "In this section, we will demonstrate simple arithmetic operations using Python.\n"
   ]
  },
  {
   "cell_type": "markdown",
   "metadata": {},
   "source": [
    "# Multiplying and Adding Numbers\n",
    "a = 5\n",
    "b = 10\n",
    "multiplication = a * b\n",
    "addition = a + b\n",
    "\n",
    "multiplication, addition\n"
   ]
  },
  {
   "cell_type": "markdown",
   "metadata": {},
   "source": [
    "# Convert Minutes to Hours\n",
    "minutes = 150\n",
    "hours = minutes / 60\n",
    "\n",
    "hours\n"
   ]
  },
  {
   "cell_type": "markdown",
   "metadata": {},
   "source": [
    "## Objectives\n",
    "- Understand basic arithmetic operations in Python.\n",
    "- Learn to convert time units.\n",
    "- Explore data science tools and languages.\n",
    "- Share a Jupyter Notebook on GitHub.\n"
   ]
  },
  {
   "cell_type": "markdown",
   "metadata": {},
   "source": [
    "## Author\n",
    "This notebook was created by Amey Yerne.\n"
   ]
  }
 ],
 "metadata": {
  "kernelspec": {
   "display_name": "Python 3",
   "language": "python",
   "name": "python3"
  },
  "language_info": {
   "codemirror_mode": {
    "name": "ipython",
    "version": 3
   },
   "file_extension": ".py",
   "mimetype": "text/x-python",
   "name": "python",
   "nbconvert_exporter": "python",
   "pygments_lexer": "ipython3",
   "version": "3.10.11"
  }
 },
 "nbformat": 4,
 "nbformat_minor": 2
}
